{
  "nbformat": 4,
  "nbformat_minor": 0,
  "metadata": {
    "colab": {
      "provenance": []
    },
    "kernelspec": {
      "name": "python3",
      "display_name": "Python 3"
    },
    "language_info": {
      "name": "python"
    }
  },
  "cells": [
    {
      "cell_type": "markdown",
      "source": [
        "Week3 Assignment"
      ],
      "metadata": {
        "id": "NU7Y-bc2FLxq"
      }
    },
    {
      "cell_type": "code",
      "source": [
        "# my name\n",
        "Name =(\"Maimuna Garba\")\n",
        "print(Name)"
      ],
      "metadata": {
        "colab": {
          "base_uri": "https://localhost:8080/"
        },
        "id": "yeO_3gfPH6BK",
        "outputId": "bb20f592-c4a6-499a-d34b-3f31d07081db"
      },
      "execution_count": null,
      "outputs": [
        {
          "output_type": "stream",
          "name": "stdout",
          "text": [
            "Maimuna Garba\n"
          ]
        }
      ]
    },
    {
      "cell_type": "code",
      "source": [
        "# Age =(\"30\")\n",
        "print(Age)"
      ],
      "metadata": {
        "colab": {
          "base_uri": "https://localhost:8080/"
        },
        "id": "Z9VYDRJbKGUv",
        "outputId": "e1292f75-4389-4284-d5ae-32113dc21f11"
      },
      "execution_count": null,
      "outputs": [
        {
          "output_type": "stream",
          "name": "stdout",
          "text": [
            "30\n"
          ]
        }
      ]
    },
    {
      "cell_type": "code",
      "source": [
        "# frinds\n",
        "My_friends =(\"aisha\", \"fatima\", \"khadija\", \"maryam\")\n",
        "print(My_friends)"
      ],
      "metadata": {
        "colab": {
          "base_uri": "https://localhost:8080/"
        },
        "id": "gXN8C5t1L2UK",
        "outputId": "d49a7215-b7a6-404f-ba96-4fe8927ed888"
      },
      "execution_count": null,
      "outputs": [
        {
          "output_type": "stream",
          "name": "stdout",
          "text": [
            "('aisha', 'fatima', 'khadija', 'maryam')\n"
          ]
        }
      ]
    },
    {
      "cell_type": "code",
      "source": [
        "# our department\n",
        "Department =(\"food science and technology\")\n",
        "print(Department)"
      ],
      "metadata": {
        "colab": {
          "base_uri": "https://localhost:8080/"
        },
        "id": "jFSuDtCYNWXd",
        "outputId": "0844f40b-980b-42d3-c07f-3f44417e9a76"
      },
      "execution_count": null,
      "outputs": [
        {
          "output_type": "stream",
          "name": "stdout",
          "text": [
            "food science and technology\n"
          ]
        }
      ]
    },
    {
      "cell_type": "code",
      "source": [
        "# favourite subject\n",
        "Subject =(\"food analysis methods\")\n",
        "print(Subject)"
      ],
      "metadata": {
        "colab": {
          "base_uri": "https://localhost:8080/"
        },
        "id": "xYmOr5vQNqz7",
        "outputId": "a910b9da-57b7-4c14-a871-428e5a1f13b6"
      },
      "execution_count": null,
      "outputs": [
        {
          "output_type": "stream",
          "name": "stdout",
          "text": [
            "food analysis methods\n"
          ]
        }
      ]
    },
    {
      "cell_type": "code",
      "source": [
        "Chemical_methods =(\" miosture content, protein, ash, fibre, etc.\")\n",
        "print(Chemical_methods)"
      ],
      "metadata": {
        "colab": {
          "base_uri": "https://localhost:8080/"
        },
        "id": "KLoBYUxtOOc5",
        "outputId": "2c045dab-a98e-4e2f-bfa0-7f1372fc76a0"
      },
      "execution_count": null,
      "outputs": [
        {
          "output_type": "stream",
          "name": "stdout",
          "text": [
            " miosture content, protein, ash, fibre, etc.\n"
          ]
        }
      ]
    },
    {
      "cell_type": "code",
      "source": [
        "Chromatographic_techniques =(\"GC, LC, TLC, HPLC, GC-MS, LC-MS\")\n",
        "print(Chromatographic_techniques)"
      ],
      "metadata": {
        "colab": {
          "base_uri": "https://localhost:8080/"
        },
        "id": "yWn-r5-2SYJd",
        "outputId": "2f9b14eb-654e-4db1-f36a-325bcb961e67"
      },
      "execution_count": null,
      "outputs": [
        {
          "output_type": "stream",
          "name": "stdout",
          "text": [
            "GC, LC, TLC, HPLC, GC-MS, LC-MS\n"
          ]
        }
      ]
    }
  ]
}