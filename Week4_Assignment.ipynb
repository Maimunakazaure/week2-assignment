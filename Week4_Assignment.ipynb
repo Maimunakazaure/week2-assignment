{
  "nbformat": 4,
  "nbformat_minor": 0,
  "metadata": {
    "colab": {
      "provenance": []
    },
    "kernelspec": {
      "name": "python3",
      "display_name": "Python 3"
    },
    "language_info": {
      "name": "python"
    }
  },
  "cells": [
    {
      "cell_type": "code",
      "execution_count": null,
      "metadata": {
        "id": "bpeVpioAHSxg"
      },
      "outputs": [],
      "source": [
        "# creating a list of my friends\n",
        "friends = ['maryam', 'naima', 'hajara', 'amina', 'rabia', 'saliha', 'aisha', 'khadija']"
      ]
    },
    {
      "cell_type": "code",
      "source": [
        "# printing my friends list\n",
        "print(friends)"
      ],
      "metadata": {
        "colab": {
          "base_uri": "https://localhost:8080/"
        },
        "id": "ItLRd702LoY3",
        "outputId": "a88cc667-9378-4ab7-e357-12a7da57b426"
      },
      "execution_count": 2,
      "outputs": [
        {
          "output_type": "stream",
          "name": "stdout",
          "text": [
            "['maryam', 'naima', 'hajara', 'amina', 'rabia', 'saliha', 'aisha', 'khadija']\n"
          ]
        }
      ]
    },
    {
      "cell_type": "code",
      "source": [
        "# len fuction\n",
        "len(friends)"
      ],
      "metadata": {
        "colab": {
          "base_uri": "https://localhost:8080/"
        },
        "id": "BDTXVEJgL_dn",
        "outputId": "f7fc7984-381b-459e-8dd7-bddd6db63d57"
      },
      "execution_count": 7,
      "outputs": [
        {
          "output_type": "execute_result",
          "data": {
            "text/plain": [
              "8"
            ]
          },
          "metadata": {},
          "execution_count": 7
        }
      ]
    },
    {
      "cell_type": "markdown",
      "source": [
        "looping"
      ],
      "metadata": {
        "id": "D-dWsjWNOqK1"
      }
    },
    {
      "cell_type": "code",
      "source": [
        "fiends_1 = ['amina', 'rabia', 'saliha', 'aisha']\n",
        "for friends in fiends_1:\n",
        "    print(f\"{friends}, thank you for coming\")"
      ],
      "metadata": {
        "colab": {
          "base_uri": "https://localhost:8080/"
        },
        "id": "ItijU6KiOvAs",
        "outputId": "dbb2f6e7-26bd-43f9-c496-e31dea0d9ca3"
      },
      "execution_count": 29,
      "outputs": [
        {
          "output_type": "stream",
          "name": "stdout",
          "text": [
            "amina, thank you for coming\n",
            "rabia, thank you for coming\n",
            "saliha, thank you for coming\n",
            "aisha, thank you for coming\n"
          ]
        }
      ]
    },
    {
      "cell_type": "code",
      "source": [
        "# range function\n",
        "range(0,9)"
      ],
      "metadata": {
        "colab": {
          "base_uri": "https://localhost:8080/"
        },
        "id": "xKVOEyhcTQuS",
        "outputId": "f645603a-5569-499c-f318-79496d8f1e73"
      },
      "execution_count": 30,
      "outputs": [
        {
          "output_type": "execute_result",
          "data": {
            "text/plain": [
              "range(0, 9)"
            ]
          },
          "metadata": {},
          "execution_count": 30
        }
      ]
    },
    {
      "cell_type": "code",
      "source": [
        "list(range(0,9))"
      ],
      "metadata": {
        "colab": {
          "base_uri": "https://localhost:8080/"
        },
        "id": "T-WOgn_1ThSO",
        "outputId": "14a347f9-df85-44e1-bfc6-e16fae95ab24"
      },
      "execution_count": 33,
      "outputs": [
        {
          "output_type": "execute_result",
          "data": {
            "text/plain": [
              "[0, 1, 2, 3, 4, 5, 6, 7, 8]"
            ]
          },
          "metadata": {},
          "execution_count": 33
        }
      ]
    },
    {
      "cell_type": "code",
      "source": [
        "list1 = list(range(0,9))"
      ],
      "metadata": {
        "id": "oIvrTA4-UEDi"
      },
      "execution_count": 34,
      "outputs": []
    },
    {
      "cell_type": "code",
      "source": [
        "list1"
      ],
      "metadata": {
        "colab": {
          "base_uri": "https://localhost:8080/"
        },
        "id": "nzJgzX1rUMxV",
        "outputId": "6073f136-a683-460d-e2dc-6f721a6cb733"
      },
      "execution_count": 35,
      "outputs": [
        {
          "output_type": "execute_result",
          "data": {
            "text/plain": [
              "[0, 1, 2, 3, 4, 5, 6, 7, 8]"
            ]
          },
          "metadata": {},
          "execution_count": 35
        }
      ]
    },
    {
      "cell_type": "code",
      "source": [
        "for n in list1:\n",
        "    print(n)"
      ],
      "metadata": {
        "colab": {
          "base_uri": "https://localhost:8080/"
        },
        "id": "tuGQf9LtUU8T",
        "outputId": "173e6e30-aef1-43c4-817d-d5d9bde2d580"
      },
      "execution_count": 37,
      "outputs": [
        {
          "output_type": "stream",
          "name": "stdout",
          "text": [
            "0\n",
            "1\n",
            "2\n",
            "3\n",
            "4\n",
            "5\n",
            "6\n",
            "7\n",
            "8\n"
          ]
        }
      ]
    },
    {
      "cell_type": "code",
      "source": [
        "# tuple\n",
        "my_tuple = (1, 2, 3, 'mohd')"
      ],
      "metadata": {
        "id": "CWRzba-5UixS"
      },
      "execution_count": 40,
      "outputs": []
    },
    {
      "cell_type": "code",
      "source": [
        "# printing my tuple\n",
        "print(my_tuple)"
      ],
      "metadata": {
        "colab": {
          "base_uri": "https://localhost:8080/"
        },
        "id": "WNefGEqiVF-T",
        "outputId": "cedb383c-069b-4c0e-cfb0-4caf471b0126"
      },
      "execution_count": 41,
      "outputs": [
        {
          "output_type": "stream",
          "name": "stdout",
          "text": [
            "(1, 2, 3, 'mohd')\n"
          ]
        }
      ]
    },
    {
      "cell_type": "markdown",
      "source": [
        "conditional statement"
      ],
      "metadata": {
        "id": "AhJKD06IVVpR"
      }
    },
    {
      "cell_type": "code",
      "source": [
        "# if and else statement\n",
        "number = 10\n",
        "if number >= 1:\n",
        "      print('number is positive')\n",
        "else:\n",
        "      print('negetive number')"
      ],
      "metadata": {
        "colab": {
          "base_uri": "https://localhost:8080/"
        },
        "id": "UyGLZDw6VQUV",
        "outputId": "f230a190-59b2-4cf1-f491-f2e0c720c773"
      },
      "execution_count": 51,
      "outputs": [
        {
          "output_type": "stream",
          "name": "stdout",
          "text": [
            "number is positive\n"
          ]
        }
      ]
    },
    {
      "cell_type": "code",
      "source": [
        "apple = ('red')\n",
        "if apple == \"red\":\n",
        "    print('liked')\n",
        "else:\n",
        "    print('dislike')"
      ],
      "metadata": {
        "colab": {
          "base_uri": "https://localhost:8080/"
        },
        "id": "Gxl36fRjZ4ki",
        "outputId": "d89c2bf9-9bf4-4bbd-e182-a73b9f9701b4"
      },
      "execution_count": 55,
      "outputs": [
        {
          "output_type": "stream",
          "name": "stdout",
          "text": [
            "liked\n"
          ]
        }
      ]
    },
    {
      "cell_type": "markdown",
      "source": [
        "simpl dictionary"
      ],
      "metadata": {
        "id": "BtU8o9XQbFtd"
      }
    },
    {
      "cell_type": "code",
      "source": [
        "# creating my simple dictionary\n",
        "user = {\"name\":\"maimuna\", \"age\":\"30\", \"gender\":\"female\"}"
      ],
      "metadata": {
        "id": "3e9vqYYebIXp"
      },
      "execution_count": 56,
      "outputs": []
    },
    {
      "cell_type": "code",
      "source": [
        "print(user[\"name\"])"
      ],
      "metadata": {
        "colab": {
          "base_uri": "https://localhost:8080/"
        },
        "id": "FEI7FQLQbw18",
        "outputId": "7fb47f35-6e85-4e96-8cc9-2cdc28f917d7"
      },
      "execution_count": 57,
      "outputs": [
        {
          "output_type": "stream",
          "name": "stdout",
          "text": [
            "maimuna\n"
          ]
        }
      ]
    },
    {
      "cell_type": "code",
      "source": [
        "# adding key-value\n",
        "user[\"job\"] = 'teacher'"
      ],
      "metadata": {
        "id": "DV-LnqGucA-s"
      },
      "execution_count": 58,
      "outputs": []
    },
    {
      "cell_type": "code",
      "source": [
        "user"
      ],
      "metadata": {
        "colab": {
          "base_uri": "https://localhost:8080/"
        },
        "id": "hysRyvyZcWQD",
        "outputId": "ab505d74-f397-4d40-916d-0ce104b9be82"
      },
      "execution_count": 59,
      "outputs": [
        {
          "output_type": "execute_result",
          "data": {
            "text/plain": [
              "{'name': 'maimuna', 'age': '30', 'gender': 'female', 'job': 'teacher'}"
            ]
          },
          "metadata": {},
          "execution_count": 59
        }
      ]
    }
  ]
}