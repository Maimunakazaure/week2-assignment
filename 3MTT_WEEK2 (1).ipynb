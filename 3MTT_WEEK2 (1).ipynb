{
  "nbformat": 4,
  "nbformat_minor": 0,
  "metadata": {
    "colab": {
      "provenance": []
    },
    "kernelspec": {
      "name": "python3",
      "display_name": "Python 3"
    },
    "language_info": {
      "name": "python"
    }
  },
  "cells": [
    {
      "cell_type": "code",
      "execution_count": null,
      "metadata": {
        "id": "OhSkdGwTSGcQ"
      },
      "outputs": [],
      "source": [
        "# importing a pandas library\n",
        "import pandas as pd"
      ]
    },
    {
      "cell_type": "code",
      "source": [
        "# uploading the dataset\n",
        "Maimuna = pd.read_excel(\"/content/sample_data/SS3_C.xlsx\")"
      ],
      "metadata": {
        "id": "FowX6yujTReq"
      },
      "execution_count": null,
      "outputs": []
    },
    {
      "cell_type": "code",
      "source": [
        "# printig the datasett\n",
        "print(Maimuna)"
      ],
      "metadata": {
        "colab": {
          "base_uri": "https://localhost:8080/"
        },
        "id": "4vOosqPGVC7m",
        "outputId": "08a7ec77-933c-4696-dfe1-e367b91c8f2f"
      },
      "execution_count": null,
      "outputs": [
        {
          "output_type": "stream",
          "name": "stdout",
          "text": [
            "   FOOD AND NUTRITION MARKS FOR SS3 C  Unnamed: 1  Unnamed: 2 Unnamed: 3  \\\n",
            "0                               NAMES         NaN         NaN  PRACTICAL   \n",
            "1                        AISHA DALHAT         NaN         NaN         10   \n",
            "2                      AISHA MUHAMMAD         NaN         NaN         11   \n",
            "3                 FATIMA SALISU ADAMU         NaN         NaN         15   \n",
            "4                      FATIMA ZUBAIRU         NaN         NaN         16   \n",
            "..                                ...         ...         ...        ...   \n",
            "64                      FAUZIYYA SALE         NaN         NaN         15   \n",
            "65                          UMMA SABO         NaN         NaN         15   \n",
            "66                    HADIZA MUHAMMAD         NaN         NaN         12   \n",
            "67                   NANA HAUWA ABDUL         NaN         NaN         13   \n",
            "68                    JAMILA ABUBAKAR         NaN         NaN         10   \n",
            "\n",
            "    Unnamed: 4 Unnamed: 5 Unnamed: 6 Unnamed: 7  \n",
            "0          NaN       TEST      EXAMS      TOTAL  \n",
            "1          NaN         15         50         75  \n",
            "2          NaN         15         46         72  \n",
            "3          NaN         12         54         81  \n",
            "4          NaN         12         58         86  \n",
            "..         ...        ...        ...        ...  \n",
            "64         NaN         17         54         86  \n",
            "65         NaN         18         55         88  \n",
            "66         NaN         19         55         86  \n",
            "67         NaN         16         54         83  \n",
            "68         NaN         16         44         70  \n",
            "\n",
            "[69 rows x 8 columns]\n"
          ]
        }
      ]
    }
  ]
}